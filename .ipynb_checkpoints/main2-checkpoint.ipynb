{
 "cells": [
  {
   "cell_type": "code",
   "execution_count": 1,
   "metadata": {
    "scrolled": false
   },
   "outputs": [],
   "source": [
    "import os\n",
    "import pandas as pd\n",
    "import numpy as np\n",
    "#import the source file\n",
    "pybank_csv = \"PyBank/Resources/budget_data.csv\"\n",
    "\n",
    "pybank_df = pd.read_csv(pybank_csv)\n"
   ]
  },
  {
   "cell_type": "code",
   "execution_count": 2,
   "metadata": {},
   "outputs": [
    {
     "data": {
      "text/html": [
       "<div>\n",
       "<style scoped>\n",
       "    .dataframe tbody tr th:only-of-type {\n",
       "        vertical-align: middle;\n",
       "    }\n",
       "\n",
       "    .dataframe tbody tr th {\n",
       "        vertical-align: top;\n",
       "    }\n",
       "\n",
       "    .dataframe thead th {\n",
       "        text-align: right;\n",
       "    }\n",
       "</style>\n",
       "<table border=\"1\" class=\"dataframe\">\n",
       "  <thead>\n",
       "    <tr style=\"text-align: right;\">\n",
       "      <th></th>\n",
       "      <th>Date</th>\n",
       "      <th>Profit/Losses</th>\n",
       "      <th>Monthly_Change</th>\n",
       "    </tr>\n",
       "  </thead>\n",
       "  <tbody>\n",
       "    <tr>\n",
       "      <th>0</th>\n",
       "      <td>Jan-2010</td>\n",
       "      <td>867884</td>\n",
       "      <td>NaN</td>\n",
       "    </tr>\n",
       "    <tr>\n",
       "      <th>1</th>\n",
       "      <td>Feb-2010</td>\n",
       "      <td>984655</td>\n",
       "      <td>116771.0</td>\n",
       "    </tr>\n",
       "    <tr>\n",
       "      <th>2</th>\n",
       "      <td>Mar-2010</td>\n",
       "      <td>322013</td>\n",
       "      <td>-662642.0</td>\n",
       "    </tr>\n",
       "    <tr>\n",
       "      <th>3</th>\n",
       "      <td>Apr-2010</td>\n",
       "      <td>-69417</td>\n",
       "      <td>-391430.0</td>\n",
       "    </tr>\n",
       "    <tr>\n",
       "      <th>4</th>\n",
       "      <td>May-2010</td>\n",
       "      <td>310503</td>\n",
       "      <td>379920.0</td>\n",
       "    </tr>\n",
       "  </tbody>\n",
       "</table>\n",
       "</div>"
      ],
      "text/plain": [
       "       Date  Profit/Losses  Monthly_Change\n",
       "0  Jan-2010         867884             NaN\n",
       "1  Feb-2010         984655        116771.0\n",
       "2  Mar-2010         322013       -662642.0\n",
       "3  Apr-2010         -69417       -391430.0\n",
       "4  May-2010         310503        379920.0"
      ]
     },
     "execution_count": 2,
     "metadata": {},
     "output_type": "execute_result"
    }
   ],
   "source": [
    "pybank_df[\"Monthly_Change\"] = pybank_df[\"Profit/Losses\"].diff()\n",
    "pybank_df.head()"
   ]
  },
  {
   "cell_type": "code",
   "execution_count": 3,
   "metadata": {
    "scrolled": true
   },
   "outputs": [
    {
     "data": {
      "text/html": [
       "<div>\n",
       "<style scoped>\n",
       "    .dataframe tbody tr th:only-of-type {\n",
       "        vertical-align: middle;\n",
       "    }\n",
       "\n",
       "    .dataframe tbody tr th {\n",
       "        vertical-align: top;\n",
       "    }\n",
       "\n",
       "    .dataframe thead th {\n",
       "        text-align: right;\n",
       "    }\n",
       "</style>\n",
       "<table border=\"1\" class=\"dataframe\">\n",
       "  <thead>\n",
       "    <tr style=\"text-align: right;\">\n",
       "      <th></th>\n",
       "      <th>Date</th>\n",
       "      <th>Profit/Losses</th>\n",
       "      <th>Monthly_Change</th>\n",
       "    </tr>\n",
       "  </thead>\n",
       "  <tbody>\n",
       "    <tr>\n",
       "      <th>1</th>\n",
       "      <td>Feb-2010</td>\n",
       "      <td>984655</td>\n",
       "      <td>116771.0</td>\n",
       "    </tr>\n",
       "    <tr>\n",
       "      <th>2</th>\n",
       "      <td>Mar-2010</td>\n",
       "      <td>322013</td>\n",
       "      <td>-662642.0</td>\n",
       "    </tr>\n",
       "    <tr>\n",
       "      <th>3</th>\n",
       "      <td>Apr-2010</td>\n",
       "      <td>-69417</td>\n",
       "      <td>-391430.0</td>\n",
       "    </tr>\n",
       "    <tr>\n",
       "      <th>4</th>\n",
       "      <td>May-2010</td>\n",
       "      <td>310503</td>\n",
       "      <td>379920.0</td>\n",
       "    </tr>\n",
       "    <tr>\n",
       "      <th>5</th>\n",
       "      <td>Jun-2010</td>\n",
       "      <td>522857</td>\n",
       "      <td>212354.0</td>\n",
       "    </tr>\n",
       "  </tbody>\n",
       "</table>\n",
       "</div>"
      ],
      "text/plain": [
       "       Date  Profit/Losses  Monthly_Change\n",
       "1  Feb-2010         984655        116771.0\n",
       "2  Mar-2010         322013       -662642.0\n",
       "3  Apr-2010         -69417       -391430.0\n",
       "4  May-2010         310503        379920.0\n",
       "5  Jun-2010         522857        212354.0"
      ]
     },
     "execution_count": 3,
     "metadata": {},
     "output_type": "execute_result"
    }
   ],
   "source": [
    "pybank_drop_df = pybank_df.dropna()\n",
    "pybank_drop_df.head()"
   ]
  },
  {
   "cell_type": "code",
   "execution_count": 4,
   "metadata": {},
   "outputs": [],
   "source": [
    "months = pybank_df[\"Date\"].count()"
   ]
  },
  {
   "cell_type": "code",
   "execution_count": 5,
   "metadata": {},
   "outputs": [],
   "source": [
    "averagemonthchange = pybank_df[\"Monthly_Change\"].mean()"
   ]
  },
  {
   "cell_type": "code",
   "execution_count": 6,
   "metadata": {},
   "outputs": [],
   "source": [
    "total = pybank_df[\"Profit/Losses\"].sum()"
   ]
  },
  {
   "cell_type": "code",
   "execution_count": 7,
   "metadata": {},
   "outputs": [
    {
     "data": {
      "text/html": [
       "<div>\n",
       "<style scoped>\n",
       "    .dataframe tbody tr th:only-of-type {\n",
       "        vertical-align: middle;\n",
       "    }\n",
       "\n",
       "    .dataframe tbody tr th {\n",
       "        vertical-align: top;\n",
       "    }\n",
       "\n",
       "    .dataframe thead th {\n",
       "        text-align: right;\n",
       "    }\n",
       "</style>\n",
       "<table border=\"1\" class=\"dataframe\">\n",
       "  <thead>\n",
       "    <tr style=\"text-align: right;\">\n",
       "      <th></th>\n",
       "      <th>Date</th>\n",
       "      <th>Profit/Losses</th>\n",
       "      <th>Monthly_Change</th>\n",
       "    </tr>\n",
       "  </thead>\n",
       "  <tbody>\n",
       "    <tr>\n",
       "      <th>0</th>\n",
       "      <td>Jan-2010</td>\n",
       "      <td>$867,884.00</td>\n",
       "      <td>$nan</td>\n",
       "    </tr>\n",
       "    <tr>\n",
       "      <th>1</th>\n",
       "      <td>Feb-2010</td>\n",
       "      <td>$984,655.00</td>\n",
       "      <td>$116,771.00</td>\n",
       "    </tr>\n",
       "    <tr>\n",
       "      <th>2</th>\n",
       "      <td>Mar-2010</td>\n",
       "      <td>$322,013.00</td>\n",
       "      <td>$-662,642.00</td>\n",
       "    </tr>\n",
       "    <tr>\n",
       "      <th>3</th>\n",
       "      <td>Apr-2010</td>\n",
       "      <td>$-69,417.00</td>\n",
       "      <td>$-391,430.00</td>\n",
       "    </tr>\n",
       "    <tr>\n",
       "      <th>4</th>\n",
       "      <td>May-2010</td>\n",
       "      <td>$310,503.00</td>\n",
       "      <td>$379,920.00</td>\n",
       "    </tr>\n",
       "    <tr>\n",
       "      <th>...</th>\n",
       "      <td>...</td>\n",
       "      <td>...</td>\n",
       "      <td>...</td>\n",
       "    </tr>\n",
       "    <tr>\n",
       "      <th>81</th>\n",
       "      <td>Oct-2016</td>\n",
       "      <td>$102,685.00</td>\n",
       "      <td>$-665,765.00</td>\n",
       "    </tr>\n",
       "    <tr>\n",
       "      <th>82</th>\n",
       "      <td>Nov-2016</td>\n",
       "      <td>$795,914.00</td>\n",
       "      <td>$693,229.00</td>\n",
       "    </tr>\n",
       "    <tr>\n",
       "      <th>83</th>\n",
       "      <td>Dec-2016</td>\n",
       "      <td>$60,988.00</td>\n",
       "      <td>$-734,926.00</td>\n",
       "    </tr>\n",
       "    <tr>\n",
       "      <th>84</th>\n",
       "      <td>Jan-2017</td>\n",
       "      <td>$138,230.00</td>\n",
       "      <td>$77,242.00</td>\n",
       "    </tr>\n",
       "    <tr>\n",
       "      <th>85</th>\n",
       "      <td>Feb-2017</td>\n",
       "      <td>$671,099.00</td>\n",
       "      <td>$532,869.00</td>\n",
       "    </tr>\n",
       "  </tbody>\n",
       "</table>\n",
       "<p>86 rows × 3 columns</p>\n",
       "</div>"
      ],
      "text/plain": [
       "        Date Profit/Losses Monthly_Change\n",
       "0   Jan-2010   $867,884.00           $nan\n",
       "1   Feb-2010   $984,655.00    $116,771.00\n",
       "2   Mar-2010   $322,013.00   $-662,642.00\n",
       "3   Apr-2010   $-69,417.00   $-391,430.00\n",
       "4   May-2010   $310,503.00    $379,920.00\n",
       "..       ...           ...            ...\n",
       "81  Oct-2016   $102,685.00   $-665,765.00\n",
       "82  Nov-2016   $795,914.00    $693,229.00\n",
       "83  Dec-2016    $60,988.00   $-734,926.00\n",
       "84  Jan-2017   $138,230.00     $77,242.00\n",
       "85  Feb-2017   $671,099.00    $532,869.00\n",
       "\n",
       "[86 rows x 3 columns]"
      ]
     },
     "execution_count": 7,
     "metadata": {},
     "output_type": "execute_result"
    }
   ],
   "source": [
    "pybank_df[\"Profit/Losses\"] = pybank_df[\"Profit/Losses\"].astype(float).map(\n",
    "    \"${:,.2f}\".format)\n",
    "pybank_df[\"Monthly_Change\"] = pybank_df[\"Monthly_Change\"].astype(float).map(\n",
    "    \"${:,.2f}\".format)\n",
    "pybank_df"
   ]
  },
  {
   "cell_type": "code",
   "execution_count": 8,
   "metadata": {
    "scrolled": false
   },
   "outputs": [
    {
     "name": "stdout",
     "output_type": "stream",
     "text": [
      "Financial Summary\n",
      "_________________\n",
      "Months:  86\n",
      "Total: $38382578\n",
      "Average Monthly Change: $-2315.1176470588234\n"
     ]
    },
    {
     "name": "stderr",
     "output_type": "stream",
     "text": [
      "/Users/kateengard/opt/anaconda3/envs/PythonData/lib/python3.7/site-packages/ipykernel_launcher.py:12: SettingWithCopyWarning: \n",
      "A value is trying to be set on a copy of a slice from a DataFrame.\n",
      "Try using .loc[row_indexer,col_indexer] = value instead\n",
      "\n",
      "See the caveats in the documentation: https://pandas.pydata.org/pandas-docs/stable/user_guide/indexing.html#returning-a-view-versus-a-copy\n",
      "  if sys.path[0] == '':\n",
      "/Users/kateengard/opt/anaconda3/envs/PythonData/lib/python3.7/site-packages/ipykernel_launcher.py:13: SettingWithCopyWarning: \n",
      "A value is trying to be set on a copy of a slice from a DataFrame.\n",
      "Try using .loc[row_indexer,col_indexer] = value instead\n",
      "\n",
      "See the caveats in the documentation: https://pandas.pydata.org/pandas-docs/stable/user_guide/indexing.html#returning-a-view-versus-a-copy\n",
      "  del sys.path[0]\n",
      "/Users/kateengard/opt/anaconda3/envs/PythonData/lib/python3.7/site-packages/ipykernel_launcher.py:14: SettingWithCopyWarning: \n",
      "A value is trying to be set on a copy of a slice from a DataFrame.\n",
      "Try using .loc[row_indexer,col_indexer] = value instead\n",
      "\n",
      "See the caveats in the documentation: https://pandas.pydata.org/pandas-docs/stable/user_guide/indexing.html#returning-a-view-versus-a-copy\n",
      "  \n",
      "/Users/kateengard/opt/anaconda3/envs/PythonData/lib/python3.7/site-packages/ipykernel_launcher.py:15: SettingWithCopyWarning: \n",
      "A value is trying to be set on a copy of a slice from a DataFrame.\n",
      "Try using .loc[row_indexer,col_indexer] = value instead\n",
      "\n",
      "See the caveats in the documentation: https://pandas.pydata.org/pandas-docs/stable/user_guide/indexing.html#returning-a-view-versus-a-copy\n",
      "  from ipykernel import kernelapp as app\n"
     ]
    }
   ],
   "source": [
    "financial_summary = {'Months: ': [months], 'Total: ': [total], 'Average Monthly Change: ': [averagemonthchange]}\n",
    "greatestincrease = pybank_drop_df[pybank_drop_df.Monthly_Change == pybank_drop_df.Monthly_Change.max()]\n",
    "greatestdecrease = pybank_drop_df[pybank_drop_df.Monthly_Change == pybank_drop_df.Monthly_Change.min()]\n",
    "\n",
    "\n",
    "print('Financial Summary')\n",
    "print('_________________')\n",
    "print(f'Months:  {months}')\n",
    "print(f'Total: ${total}')\n",
    "print(f'Average Monthly Change: ${averagemonthchange}')\n",
    "pybank_drop_df\n",
    "greatestincrease[\"Profit/Losses\"] = greatestincrease[\"Profit/Losses\"].map(\"${:,.2f}\".format)\n",
    "greatestincrease[\"Monthly_Change\"] = greatestincrease[\"Monthly_Change\"].map(\"${:,.2f}\".format)\n",
    "greatestdecrease[\"Profit/Losses\"] = greatestdecrease[\"Profit/Losses\"].map(\"${:,.2f}\".format)\n",
    "greatestdecrease[\"Monthly_Change\"] = greatestdecrease[\"Monthly_Change\"].map(\"${:,.2f}\".format)"
   ]
  },
  {
   "cell_type": "code",
   "execution_count": 10,
   "metadata": {},
   "outputs": [
    {
     "name": "stdout",
     "output_type": "stream",
     "text": [
      "Financial Summary \n",
      "_________________\n",
      "Months:  86\n",
      "Total: $38382578\n",
      "Average Monthly Change: $-2315.1176470588234\n",
      "        Date  Profit/Losses Monthly_Change\n",
      "25  Feb-2012  $1,170,593.00  $1,926,159.00\n",
      "        Date   Profit/Losses  Monthly_Change\n",
      "44  Sep-2013  $-1,196,225.00  $-2,196,167.00\n"
     ]
    }
   ],
   "source": [
    "import os\n",
    "import csv\n",
    "output_file = os.path.join('budget_analysis.txt')\n",
    "\n",
    "output = (f'Financial Summary \\n'\n",
    "    f'_________________\\n'\n",
    "    f'Months:  {months}\\n'\n",
    "    f'Total: ${total}\\n'\n",
    "    f'Average Monthly Change: ${averagemonthchange}\\n'\n",
    "\n",
    "    f'{greatestincrease}\\n' \n",
    "    f'{greatestdecrease}')\n",
    "\n",
    "\n",
    "print(output)\n",
    "with open (output_file, 'w') as txt_file:\n",
    "    txt_file.write (output)\n"
   ]
  },
  {
   "cell_type": "code",
   "execution_count": null,
   "metadata": {},
   "outputs": [],
   "source": []
  }
 ],
 "metadata": {
  "kernelspec": {
   "display_name": "Python 3",
   "language": "python",
   "name": "python3"
  },
  "language_info": {
   "codemirror_mode": {
    "name": "ipython",
    "version": 3
   },
   "file_extension": ".py",
   "mimetype": "text/x-python",
   "name": "python",
   "nbconvert_exporter": "python",
   "pygments_lexer": "ipython3",
   "version": "3.7.6"
  }
 },
 "nbformat": 4,
 "nbformat_minor": 2
}
